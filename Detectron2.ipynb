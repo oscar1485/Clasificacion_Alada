{
 "cells": [
  {
   "cell_type": "code",
   "execution_count": 1,
   "id": "2fbe9770-f216-47a7-a2a6-f7f3591a2bbc",
   "metadata": {},
   "outputs": [
    {
     "name": "stdout",
     "output_type": "stream",
     "text": [
      "Detectron2 has been successfully installed.\n"
     ]
    }
   ],
   "source": [
    "import detectron2\n",
    "from detectron2.utils.logger import setup_logger\n",
    "setup_logger()\n",
    "\n",
    "# import some common libraries\n",
    "import numpy as np\n",
    "import cv2\n",
    "import torch, torchvision\n",
    "from detectron2 import model_zoo\n",
    "from detectron2.engine import DefaultPredictor\n",
    "from detectron2.config import get_cfg\n",
    "from detectron2.utils.visualizer import Visualizer\n",
    "from detectron2.data import MetadataCatalog\n",
    "\n",
    "print(\"Detectron2 has been successfully installed.\")\n"
   ]
  },
  {
   "cell_type": "code",
   "execution_count": 12,
   "id": "89169031-8837-4207-b354-5a81306e0ed5",
   "metadata": {},
   "outputs": [
    {
     "name": "stdout",
     "output_type": "stream",
     "text": [
      "\u001b[32m[07/14 14:19:06 d2.checkpoint.detection_checkpoint]: \u001b[0m[DetectionCheckpointer] Loading from https://dl.fbaipublicfiles.com/detectron2/COCO-InstanceSegmentation/mask_rcnn_R_50_FPN_3x/137849600/model_final_f10217.pkl ...\n",
      "Resultados guardados en output.jpg\n"
     ]
    }
   ],
   "source": [
    "import detectron2\n",
    "from detectron2.utils.logger import setup_logger\n",
    "setup_logger()\n",
    "\n",
    "# Importar algunas bibliotecas comunes\n",
    "import numpy as np\n",
    "import cv2\n",
    "import torch, torchvision\n",
    "from detectron2 import model_zoo\n",
    "from detectron2.engine import DefaultPredictor\n",
    "from detectron2.config import get_cfg\n",
    "from detectron2.utils.visualizer import Visualizer\n",
    "from detectron2.data import MetadataCatalog\n",
    "\n",
    "# Ruta a la imagen de entrada\n",
    "image_path = \"descargar.png\"  # Cambia esto a la ruta de tu imagen\n",
    "\n",
    "# Cargar la imagen\n",
    "img = cv2.imread(image_path)\n",
    "\n",
    "# Crear la configuración\n",
    "cfg = get_cfg()\n",
    "cfg.merge_from_file(model_zoo.get_config_file(\"COCO-InstanceSegmentation/mask_rcnn_R_50_FPN_3x.yaml\"))\n",
    "cfg.MODEL.ROI_HEADS.SCORE_THRESH_TEST = 0.5  # Establecer el umbral para este modelo\n",
    "cfg.MODEL.WEIGHTS = model_zoo.get_checkpoint_url(\"COCO-InstanceSegmentation/mask_rcnn_R_50_FPN_3x.yaml\")\n",
    "cfg.MODEL.DEVICE = \"cpu\"  # Usar la CPU en lugar de la GPU\n",
    "\n",
    "# Crear el predictor\n",
    "predictor = DefaultPredictor(cfg)\n",
    "\n",
    "# Realizar la predicción\n",
    "outputs = predictor(img)\n",
    "\n",
    "# Visualizar los resultados\n",
    "v = Visualizer(img[:, :, ::-1], MetadataCatalog.get(cfg.DATASETS.TRAIN[0]), scale=1.2)\n",
    "v = v.draw_instance_predictions(outputs[\"instances\"].to(\"cpu\"))\n",
    "\n",
    "# Obtener la imagen resultante\n",
    "result = v.get_image()[:, :, ::-1]\n",
    "\n",
    "# Guardar la imagen resultante\n",
    "output_path = \"output.jpg\"  # Cambia esto a la ruta donde quieres guardar la imagen resultante\n",
    "cv2.imwrite(output_path, result)\n",
    "\n",
    "print(f\"Resultados guardados en {output_path}\")\n"
   ]
  },
  {
   "cell_type": "code",
   "execution_count": 11,
   "id": "400b9b25-998c-43ba-a7d7-da2463d72c2e",
   "metadata": {},
   "outputs": [
    {
     "name": "stdout",
     "output_type": "stream",
     "text": [
      "\u001b[32m[07/14 14:18:37 d2.checkpoint.detection_checkpoint]: \u001b[0m[DetectionCheckpointer] Loading from https://dl.fbaipublicfiles.com/detectron2/COCO-InstanceSegmentation/mask_rcnn_R_50_FPN_3x/137849600/model_final_f10217.pkl ...\n",
      "Se detectó un pájaro en la imagen.\n",
      "Resultados guardados en output.jpg\n"
     ]
    }
   ],
   "source": [
    "import detectron2\n",
    "from detectron2.utils.logger import setup_logger\n",
    "setup_logger()\n",
    "\n",
    "# Importar algunas bibliotecas comunes\n",
    "import numpy as np\n",
    "import cv2\n",
    "import torch, torchvision\n",
    "from detectron2 import model_zoo\n",
    "from detectron2.engine import DefaultPredictor\n",
    "from detectron2.config import get_cfg\n",
    "from detectron2.utils.visualizer import Visualizer\n",
    "from detectron2.data import MetadataCatalog\n",
    "\n",
    "# Ruta a la imagen de entrada\n",
    "image_path = \"descargar.png\"  # Cambia esto a la ruta de tu imagen\n",
    "\n",
    "# Cargar la imagen\n",
    "img = cv2.imread(image_path)\n",
    "\n",
    "# Crear la configuración\n",
    "cfg = get_cfg()\n",
    "cfg.merge_from_file(model_zoo.get_config_file(\"COCO-InstanceSegmentation/mask_rcnn_R_50_FPN_3x.yaml\"))\n",
    "cfg.MODEL.ROI_HEADS.SCORE_THRESH_TEST = 0.5  # Establecer el umbral para este modelo\n",
    "cfg.MODEL.WEIGHTS = model_zoo.get_checkpoint_url(\"COCO-InstanceSegmentation/mask_rcnn_R_50_FPN_3x.yaml\")\n",
    "cfg.MODEL.DEVICE = \"cpu\"  # Usar la CPU en lugar de la GPU\n",
    "\n",
    "# Crear el predictor\n",
    "predictor = DefaultPredictor(cfg)\n",
    "\n",
    "# Realizar la predicción\n",
    "outputs = predictor(img)\n",
    "\n",
    "# Obtener las clases detectadas\n",
    "classes_detected = outputs[\"instances\"].pred_classes.cpu().numpy()\n",
    "\n",
    "# Clases de pájaros en el conjunto de datos COCO\n",
    "bird_classes = [14, 15, 16]  # Clases para 'bird', 'cat', 'dog' en COCO\n",
    "\n",
    "# Verificar si se detecta algún pájaro\n",
    "bird_detected = any(cls in bird_classes for cls in classes_detected)\n",
    "\n",
    "# Visualizar los resultados\n",
    "v = Visualizer(img[:, :, ::-1], MetadataCatalog.get(cfg.DATASETS.TRAIN[0]), scale=1.2)\n",
    "v = v.draw_instance_predictions(outputs[\"instances\"].to(\"cpu\"))\n",
    "\n",
    "# Obtener la imagen resultante\n",
    "result = v.get_image()[:, :, ::-1]\n",
    "\n",
    "# Guardar la imagen resultante\n",
    "output_path = \"output.jpg\"  # Cambia esto a la ruta donde quieres guardar la imagen resultante\n",
    "cv2.imwrite(output_path, result)\n",
    "\n",
    "# Mostrar si se detectó un pájaro\n",
    "if bird_detected:\n",
    "    print(\"Se detectó un pájaro en la imagen.\")\n",
    "else:\n",
    "    print(\"No se detectaron pájaros en la imagen.\")\n",
    "\n",
    "print(f\"Resultados guardados en {output_path}\")\n"
   ]
  },
  {
   "cell_type": "code",
   "execution_count": null,
   "id": "4b7b4a91-49f0-4e59-a6b0-dced6227a6f8",
   "metadata": {},
   "outputs": [],
   "source": []
  }
 ],
 "metadata": {
  "kernelspec": {
   "display_name": " TFMaves ",
   "language": "python",
   "name": "tfmaves"
  },
  "language_info": {
   "codemirror_mode": {
    "name": "ipython",
    "version": 3
   },
   "file_extension": ".py",
   "mimetype": "text/x-python",
   "name": "python",
   "nbconvert_exporter": "python",
   "pygments_lexer": "ipython3",
   "version": "3.9.19"
  }
 },
 "nbformat": 4,
 "nbformat_minor": 5
}
