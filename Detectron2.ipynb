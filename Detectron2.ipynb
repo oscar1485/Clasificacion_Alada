{
 "cells": [
  {
   "cell_type": "code",
   "execution_count": 1,
   "id": "2fbe9770-f216-47a7-a2a6-f7f3591a2bbc",
   "metadata": {},
   "outputs": [
    {
     "name": "stdout",
     "output_type": "stream",
     "text": [
      "Detectron2 has been successfully installed.\n"
     ]
    }
   ],
   "source": [
    "import detectron2\n",
    "from detectron2.utils.logger import setup_logger\n",
    "setup_logger()\n",
    "\n",
    "# import some common libraries\n",
    "import numpy as np\n",
    "import cv2\n",
    "import torch, torchvision\n",
    "from detectron2 import model_zoo\n",
    "from detectron2.engine import DefaultPredictor\n",
    "from detectron2.config import get_cfg\n",
    "from detectron2.utils.visualizer import Visualizer\n",
    "from detectron2.data import MetadataCatalog\n",
    "\n",
    "print(\"Detectron2 has been successfully installed.\")\n"
   ]
  },
  {
   "cell_type": "code",
   "execution_count": 12,
   "id": "89169031-8837-4207-b354-5a81306e0ed5",
   "metadata": {},
   "outputs": [
    {
     "name": "stdout",
     "output_type": "stream",
     "text": [
      "\u001b[32m[07/14 14:19:06 d2.checkpoint.detection_checkpoint]: \u001b[0m[DetectionCheckpointer] Loading from https://dl.fbaipublicfiles.com/detectron2/COCO-InstanceSegmentation/mask_rcnn_R_50_FPN_3x/137849600/model_final_f10217.pkl ...\n",
      "Resultados guardados en output.jpg\n"
     ]
    }
   ],
   "source": [
    "import detectron2\n",
    "from detectron2.utils.logger import setup_logger\n",
    "setup_logger()\n",
    "\n",
    "# Importar algunas bibliotecas comunes\n",
    "import numpy as np\n",
    "import cv2\n",
    "import torch, torchvision\n",
    "from detectron2 import model_zoo\n",
    "from detectron2.engine import DefaultPredictor\n",
    "from detectron2.config import get_cfg\n",
    "from detectron2.utils.visualizer import Visualizer\n",
    "from detectron2.data import MetadataCatalog\n",
    "\n",
    "# Ruta a la imagen de entrada\n",
    "image_path = \"descargar.png\"  # Cambia esto a la ruta de tu imagen\n",
    "\n",
    "# Cargar la imagen\n",
    "img = cv2.imread(image_path)\n",
    "\n",
    "# Crear la configuración\n",
    "cfg = get_cfg()\n",
    "cfg.merge_from_file(model_zoo.get_config_file(\"COCO-InstanceSegmentation/mask_rcnn_R_50_FPN_3x.yaml\"))\n",
    "cfg.MODEL.ROI_HEADS.SCORE_THRESH_TEST = 0.5  # Establecer el umbral para este modelo\n",
    "cfg.MODEL.WEIGHTS = model_zoo.get_checkpoint_url(\"COCO-InstanceSegmentation/mask_rcnn_R_50_FPN_3x.yaml\")\n",
    "cfg.MODEL.DEVICE = \"cpu\"  # Usar la CPU en lugar de la GPU\n",
    "\n",
    "# Crear el predictor\n",
    "predictor = DefaultPredictor(cfg)\n",
    "\n",
    "# Realizar la predicción\n",
    "outputs = predictor(img)\n",
    "\n",
    "# Visualizar los resultados\n",
    "v = Visualizer(img[:, :, ::-1], MetadataCatalog.get(cfg.DATASETS.TRAIN[0]), scale=1.2)\n",
    "v = v.draw_instance_predictions(outputs[\"instances\"].to(\"cpu\"))\n",
    "\n",
    "# Obtener la imagen resultante\n",
    "result = v.get_image()[:, :, ::-1]\n",
    "\n",
    "# Guardar la imagen resultante\n",
    "output_path = \"output.jpg\"  # Cambia esto a la ruta donde quieres guardar la imagen resultante\n",
    "cv2.imwrite(output_path, result)\n",
    "\n",
    "print(f\"Resultados guardados en {output_path}\")\n"
   ]
  },
  {
   "cell_type": "code",
   "execution_count": 11,
   "id": "400b9b25-998c-43ba-a7d7-da2463d72c2e",
   "metadata": {},
   "outputs": [
    {
     "name": "stdout",
     "output_type": "stream",
     "text": [
      "\u001b[32m[07/14 14:18:37 d2.checkpoint.detection_checkpoint]: \u001b[0m[DetectionCheckpointer] Loading from https://dl.fbaipublicfiles.com/detectron2/COCO-InstanceSegmentation/mask_rcnn_R_50_FPN_3x/137849600/model_final_f10217.pkl ...\n",
      "Se detectó un pájaro en la imagen.\n",
      "Resultados guardados en output.jpg\n"
     ]
    }
   ],
   "source": [
    "import detectron2\n",
    "from detectron2.utils.logger import setup_logger\n",
    "setup_logger()\n",
    "\n",
    "# Importar algunas bibliotecas comunes\n",
    "import numpy as np\n",
    "import cv2\n",
    "import torch, torchvision\n",
    "from detectron2 import model_zoo\n",
    "from detectron2.engine import DefaultPredictor\n",
    "from detectron2.config import get_cfg\n",
    "from detectron2.utils.visualizer import Visualizer\n",
    "from detectron2.data import MetadataCatalog\n",
    "\n",
    "# Ruta a la imagen de entrada\n",
    "image_path = \"descargar.png\"  # Cambia esto a la ruta de tu imagen\n",
    "\n",
    "# Cargar la imagen\n",
    "img = cv2.imread(image_path)\n",
    "\n",
    "# Crear la configuración\n",
    "cfg = get_cfg()\n",
    "cfg.merge_from_file(model_zoo.get_config_file(\"COCO-InstanceSegmentation/mask_rcnn_R_50_FPN_3x.yaml\"))\n",
    "cfg.MODEL.ROI_HEADS.SCORE_THRESH_TEST = 0.5  # Establecer el umbral para este modelo\n",
    "cfg.MODEL.WEIGHTS = model_zoo.get_checkpoint_url(\"COCO-InstanceSegmentation/mask_rcnn_R_50_FPN_3x.yaml\")\n",
    "cfg.MODEL.DEVICE = \"cpu\"  # Usar la CPU en lugar de la GPU\n",
    "\n",
    "# Crear el predictor\n",
    "predictor = DefaultPredictor(cfg)\n",
    "\n",
    "# Realizar la predicción\n",
    "outputs = predictor(img)\n",
    "\n",
    "# Obtener las clases detectadas\n",
    "classes_detected = outputs[\"instances\"].pred_classes.cpu().numpy()\n",
    "\n",
    "# Clases de pájaros en el conjunto de datos COCO\n",
    "bird_classes = [14, 15, 16]  # Clases para 'bird', 'cat', 'dog' en COCO\n",
    "\n",
    "# Verificar si se detecta algún pájaro\n",
    "bird_detected = any(cls in bird_classes for cls in classes_detected)\n",
    "\n",
    "# Visualizar los resultados\n",
    "v = Visualizer(img[:, :, ::-1], MetadataCatalog.get(cfg.DATASETS.TRAIN[0]), scale=1.2)\n",
    "v = v.draw_instance_predictions(outputs[\"instances\"].to(\"cpu\"))\n",
    "\n",
    "# Obtener la imagen resultante\n",
    "result = v.get_image()[:, :, ::-1]\n",
    "\n",
    "# Guardar la imagen resultante\n",
    "output_path = \"output.jpg\"  # Cambia esto a la ruta donde quieres guardar la imagen resultante\n",
    "cv2.imwrite(output_path, result)\n",
    "\n",
    "# Mostrar si se detectó un pájaro\n",
    "if bird_detected:\n",
    "    print(\"Se detectó un pájaro en la imagen.\")\n",
    "else:\n",
    "    print(\"No se detectaron pájaros en la imagen.\")\n",
    "\n",
    "print(f\"Resultados guardados en {output_path}\")\n"
   ]
  },
  {
   "cell_type": "code",
   "execution_count": 1,
   "id": "4b7b4a91-49f0-4e59-a6b0-dced6227a6f8",
   "metadata": {},
   "outputs": [
    {
     "name": "stdout",
     "output_type": "stream",
     "text": [
      "Requirement already satisfied: pip in c:\\users\\diazoviedo\\anaconda3\\envs\\tfmaves\\lib\\site-packages (23.3.1)\n",
      "Collecting pip\n",
      "  Using cached pip-24.1.2-py3-none-any.whl.metadata (3.6 kB)\n",
      "Using cached pip-24.1.2-py3-none-any.whl (1.8 MB)\n",
      "Installing collected packages: pip\n",
      "  Attempting uninstall: pip\n",
      "    Found existing installation: pip 23.3.1\n",
      "    Uninstalling pip-23.3.1:\n",
      "      Successfully uninstalled pip-23.3.1\n",
      "Successfully installed pip-24.0\n",
      "Note: you may need to restart the kernel to use updated packages.\n"
     ]
    }
   ],
   "source": [
    "pip install --upgrade pip"
   ]
  },
  {
   "cell_type": "markdown",
   "id": "66f604a1-b42f-474a-aba5-9943698b0803",
   "metadata": {},
   "source": [
    "# con camara web "
   ]
  },
  {
   "cell_type": "code",
   "execution_count": 3,
   "id": "284b9f7c-3792-453e-b7ed-0b62ff2ede41",
   "metadata": {
    "tags": []
   },
   "outputs": [
    {
     "name": "stderr",
     "output_type": "stream",
     "text": [
      "2024-07-23 21:20:15.833 \n",
      "  \u001b[33m\u001b[1mWarning:\u001b[0m to view this Streamlit app on a browser, run it with the following\n",
      "  command:\n",
      "\n",
      "    streamlit run C:\\Users\\DIAZOVIEDO\\anaconda3\\envs\\TFMaves\\lib\\site-packages\\ipykernel_launcher.py [ARGUMENTS]\n"
     ]
    },
    {
     "name": "stdout",
     "output_type": "stream",
     "text": [
      "\u001b[32m[07/23 21:20:17 d2.checkpoint.detection_checkpoint]: \u001b[0m[DetectionCheckpointer] Loading from https://dl.fbaipublicfiles.com/detectron2/COCO-InstanceSegmentation/mask_rcnn_R_50_FPN_3x/137849600/model_final_f10217.pkl ...\n"
     ]
    },
    {
     "ename": "error",
     "evalue": "OpenCV(4.10.0) D:\\a\\opencv-python\\opencv-python\\opencv\\modules\\highgui\\src\\window.cpp:1367: error: (-2:Unspecified error) The function is not implemented. Rebuild the library with Windows, GTK+ 2.x or Cocoa support. If you are on Ubuntu or Debian, install libgtk2.0-dev and pkg-config, then re-run cmake or configure script in function 'cvWaitKey'\n",
     "output_type": "error",
     "traceback": [
      "\u001b[1;31m---------------------------------------------------------------------------\u001b[0m",
      "\u001b[1;31merror\u001b[0m                                     Traceback (most recent call last)",
      "Cell \u001b[1;32mIn[3], line 69\u001b[0m\n\u001b[0;32m     66\u001b[0m     image_placeholder\u001b[38;5;241m.\u001b[39mimage(result_rgb, channels\u001b[38;5;241m=\u001b[39m\u001b[38;5;124m\"\u001b[39m\u001b[38;5;124mRGB\u001b[39m\u001b[38;5;124m\"\u001b[39m)\n\u001b[0;32m     68\u001b[0m     \u001b[38;5;66;03m# Romper el bucle si se presiona la tecla 'q'\u001b[39;00m\n\u001b[1;32m---> 69\u001b[0m     \u001b[38;5;28;01mif\u001b[39;00m \u001b[43mcv2\u001b[49m\u001b[38;5;241;43m.\u001b[39;49m\u001b[43mwaitKey\u001b[49m\u001b[43m(\u001b[49m\u001b[38;5;241;43m1\u001b[39;49m\u001b[43m)\u001b[49m \u001b[38;5;241m&\u001b[39m \u001b[38;5;241m0xFF\u001b[39m \u001b[38;5;241m==\u001b[39m \u001b[38;5;28mord\u001b[39m(\u001b[38;5;124m'\u001b[39m\u001b[38;5;124mq\u001b[39m\u001b[38;5;124m'\u001b[39m):\n\u001b[0;32m     70\u001b[0m         \u001b[38;5;28;01mbreak\u001b[39;00m\n\u001b[0;32m     72\u001b[0m \u001b[38;5;66;03m# Liberar la cámara\u001b[39;00m\n",
      "\u001b[1;31merror\u001b[0m: OpenCV(4.10.0) D:\\a\\opencv-python\\opencv-python\\opencv\\modules\\highgui\\src\\window.cpp:1367: error: (-2:Unspecified error) The function is not implemented. Rebuild the library with Windows, GTK+ 2.x or Cocoa support. If you are on Ubuntu or Debian, install libgtk2.0-dev and pkg-config, then re-run cmake or configure script in function 'cvWaitKey'\n"
     ]
    }
   ],
   "source": [
    "import detectron2\n",
    "from detectron2.utils.logger import setup_logger\n",
    "setup_logger()\n",
    "\n",
    "import numpy as np\n",
    "import cv2\n",
    "import torch, torchvision\n",
    "from detectron2 import model_zoo\n",
    "from detectron2.engine import DefaultPredictor\n",
    "from detectron2.config import get_cfg\n",
    "from detectron2.utils.visualizer import Visualizer\n",
    "from detectron2.data import MetadataCatalog\n",
    "import streamlit as st\n",
    "\n",
    "# Configurar Streamlit\n",
    "st.title(\"Segmentación de instancias en tiempo real\")\n",
    "st.subheader(\"Usando Detectron2 y Streamlit\")\n",
    "\n",
    "# Crear la configuración\n",
    "cfg = get_cfg()\n",
    "cfg.merge_from_file(model_zoo.get_config_file(\"COCO-InstanceSegmentation/mask_rcnn_R_50_FPN_3x.yaml\"))\n",
    "cfg.MODEL.ROI_HEADS.SCORE_THRESH_TEST = 0.5  # Establecer el umbral para este modelo\n",
    "cfg.MODEL.WEIGHTS = model_zoo.get_checkpoint_url(\"COCO-InstanceSegmentation/mask_rcnn_R_50_FPN_3x.yaml\")\n",
    "cfg.MODEL.DEVICE = \"cpu\"  # Usar la CPU en lugar de la GPU\n",
    "\n",
    "# Crear el predictor\n",
    "predictor = DefaultPredictor(cfg)\n",
    "\n",
    "# Inicializar la cámara web\n",
    "cap = cv2.VideoCapture(0)\n",
    "\n",
    "# Mapa de nombres de clases del conjunto de datos COCO\n",
    "coco_classes = MetadataCatalog.get(cfg.DATASETS.TRAIN[0]).thing_classes\n",
    "\n",
    "# Crear un lugar para visualizar la imagen en Streamlit\n",
    "image_placeholder = st.empty()\n",
    "\n",
    "while True:\n",
    "    # Capturar un fotograma de la cámara web\n",
    "    ret, frame = cap.read()\n",
    "    if not ret:\n",
    "        st.warning(\"No se pudo capturar la imagen de la cámara.\")\n",
    "        break\n",
    "\n",
    "    # Realizar la predicción\n",
    "    outputs = predictor(frame)\n",
    "\n",
    "    # Obtener las clases detectadas\n",
    "    classes_detected = outputs[\"instances\"].pred_classes.cpu().numpy()\n",
    "\n",
    "    # Obtener los nombres de las clases detectadas\n",
    "    class_names = [coco_classes[i] for i in classes_detected]\n",
    "\n",
    "    # Visualizar los resultados\n",
    "    v = Visualizer(frame[:, :, ::-1], MetadataCatalog.get(cfg.DATASETS.TRAIN[0]), scale=1.2)\n",
    "    v = v.draw_instance_predictions(outputs[\"instances\"].to(\"cpu\"))\n",
    "    result = v.get_image()[:, :, ::-1]\n",
    "\n",
    "    # Convertir la imagen resultante a un formato compatible con cv::Mat\n",
    "    result = np.asarray(result, dtype=np.uint8)\n",
    "\n",
    "    # Convertir la imagen resultante a RGB\n",
    "    result_rgb = cv2.cvtColor(result, cv2.COLOR_BGR2RGB)\n",
    "\n",
    "    # Mostrar la imagen en Streamlit\n",
    "    image_placeholder.image(result_rgb, channels=\"RGB\")\n",
    "\n",
    "    # Romper el bucle si se presiona la tecla 'q'\n",
    "    if cv2.waitKey(1) & 0xFF == ord('q'):\n",
    "        break\n",
    "\n",
    "# Liberar la cámara\n",
    "cap.release()\n"
   ]
  },
  {
   "cell_type": "code",
   "execution_count": 4,
   "id": "319e0689-2705-471c-9eb9-2efd9437e748",
   "metadata": {
    "tags": []
   },
   "outputs": [
    {
     "name": "stdout",
     "output_type": "stream",
     "text": [
      "Cámara accesible.\n"
     ]
    },
    {
     "ename": "error",
     "evalue": "OpenCV(4.10.0) D:\\a\\opencv-python\\opencv-python\\opencv\\modules\\highgui\\src\\window.cpp:1295: error: (-2:Unspecified error) The function is not implemented. Rebuild the library with Windows, GTK+ 2.x or Cocoa support. If you are on Ubuntu or Debian, install libgtk2.0-dev and pkg-config, then re-run cmake or configure script in function 'cvDestroyAllWindows'\n",
     "output_type": "error",
     "traceback": [
      "\u001b[1;31m---------------------------------------------------------------------------\u001b[0m",
      "\u001b[1;31merror\u001b[0m                                     Traceback (most recent call last)",
      "Cell \u001b[1;32mIn[4], line 13\u001b[0m\n\u001b[0;32m     11\u001b[0m     cv2\u001b[38;5;241m.\u001b[39mwaitKey(\u001b[38;5;241m0\u001b[39m)\n\u001b[0;32m     12\u001b[0m cap\u001b[38;5;241m.\u001b[39mrelease()\n\u001b[1;32m---> 13\u001b[0m \u001b[43mcv2\u001b[49m\u001b[38;5;241;43m.\u001b[39;49m\u001b[43mdestroyAllWindows\u001b[49m\u001b[43m(\u001b[49m\u001b[43m)\u001b[49m\n",
      "\u001b[1;31merror\u001b[0m: OpenCV(4.10.0) D:\\a\\opencv-python\\opencv-python\\opencv\\modules\\highgui\\src\\window.cpp:1295: error: (-2:Unspecified error) The function is not implemented. Rebuild the library with Windows, GTK+ 2.x or Cocoa support. If you are on Ubuntu or Debian, install libgtk2.0-dev and pkg-config, then re-run cmake or configure script in function 'cvDestroyAllWindows'\n"
     ]
    }
   ],
   "source": [
    "import cv2\n",
    "\n",
    "cap = cv2.VideoCapture(0)\n",
    "if not cap.isOpened():\n",
    "    print(\"No se pudo acceder a la cámara.\")\n",
    "else:\n",
    "    print(\"Cámara accesible.\")\n",
    "    ret, frame = cap.read()\n",
    "    if ret:\n",
    "        cv2.imshow('Frame', frame)\n",
    "        cv2.waitKey(0)\n",
    "    cap.release()\n",
    "    cv2.destroyAllWindows()\n"
   ]
  },
  {
   "cell_type": "code",
   "execution_count": null,
   "id": "11c5d7e5-5316-44ed-9775-07b2ed093841",
   "metadata": {},
   "outputs": [],
   "source": []
  }
 ],
 "metadata": {
  "kernelspec": {
   "display_name": " TFMaves ",
   "language": "python",
   "name": "tfmaves"
  },
  "language_info": {
   "codemirror_mode": {
    "name": "ipython",
    "version": 3
   },
   "file_extension": ".py",
   "mimetype": "text/x-python",
   "name": "python",
   "nbconvert_exporter": "python",
   "pygments_lexer": "ipython3",
   "version": "3.9.19"
  }
 },
 "nbformat": 4,
 "nbformat_minor": 5
}
