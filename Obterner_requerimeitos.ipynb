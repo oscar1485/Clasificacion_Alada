{
 "cells": [
  {
   "cell_type": "code",
   "execution_count": 1,
   "id": "cd5451fa-4f38-4e3a-95a2-2aa67a053582",
   "metadata": {
    "tags": []
   },
   "outputs": [
    {
     "name": "stdout",
     "output_type": "stream",
     "text": [
      "Lista de requerimientos guardada en requirements_.txt\n"
     ]
    }
   ],
   "source": [
    "import subprocess\n",
    "\n",
    "# Nombre del entorno\n",
    "env_name = \"TFMaves\"\n",
    "\n",
    "# Comando para exportar la lista de paquetes y versiones en el entorno\n",
    "command = f\"conda list --name {env_name}\"\n",
    "\n",
    "# Ejecutar el comando y capturar la salida\n",
    "process = subprocess.Popen(command, shell=True, stdout=subprocess.PIPE, stderr=subprocess.PIPE)\n",
    "stdout, stderr = process.communicate()\n",
    "\n",
    "# Guardar la salida en un archivo requirements_.txt\n",
    "with open(\"requirements_.txt\", \"w\") as file:\n",
    "    file.write(stdout.decode(\"utf-8\"))\n",
    "\n",
    "print(f\"Lista de requerimientos guardada en requirements_.txt\")\n"
   ]
  },
  {
   "cell_type": "code",
   "execution_count": null,
   "id": "5a22bb61-5e64-4146-bc0e-03df3ad514cd",
   "metadata": {},
   "outputs": [],
   "source": []
  }
 ],
 "metadata": {
  "kernelspec": {
   "display_name": " TFMaves ",
   "language": "python",
   "name": "tfmaves"
  },
  "language_info": {
   "codemirror_mode": {
    "name": "ipython",
    "version": 3
   },
   "file_extension": ".py",
   "mimetype": "text/x-python",
   "name": "python",
   "nbconvert_exporter": "python",
   "pygments_lexer": "ipython3",
   "version": "3.9.19"
  }
 },
 "nbformat": 4,
 "nbformat_minor": 5
}
